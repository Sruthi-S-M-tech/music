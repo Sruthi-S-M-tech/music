{
  "cells": [
    {
      "cell_type": "markdown",
      "metadata": {
        "id": "view-in-github",
        "colab_type": "text"
      },
      "source": [
        "<a href=\"https://colab.research.google.com/github/Sruthi-S-M-tech/music/blob/main/knowledge_graph.ipynb\" target=\"_parent\"><img src=\"https://colab.research.google.com/assets/colab-badge.svg\" alt=\"Open In Colab\"/></a>"
      ]
    },
    {
      "cell_type": "code",
      "execution_count": 39,
      "metadata": {
        "id": "bgNtiOlIg9l4"
      },
      "outputs": [],
      "source": [
        "!pip install --upgrade --quiet  langchain langchain-community langchain-groq neo4j"
      ]
    },
    {
      "cell_type": "code",
      "execution_count": 2,
      "metadata": {
        "id": "bhTqnNkktT3i"
      },
      "outputs": [],
      "source": [
        "## Graphdb configuration\n",
        "NEO4J_URI=\"neo4j+s://b2b5fba3.databases.neo4j.io\"\n",
        "NEO4J_USERNAME=\"neo4j\"\n",
        "NEO4J_PASSWORD=\"jnO8gih_w3xVCrlMjLfo1dTHW2ul30rDxOCRZW_YhNQ\""
      ]
    },
    {
      "cell_type": "code",
      "execution_count": 3,
      "metadata": {
        "id": "mDvEYLWct3aI"
      },
      "outputs": [],
      "source": [
        "import os\n",
        "os.environ[\"NEO4J_URI\"]=NEO4J_URI\n",
        "os.environ[\"NEO4J_USERNAME\"]=NEO4J_USERNAME\n",
        "os.environ[\"NEO4J_PASSWORD\"]=NEO4J_PASSWORD"
      ]
    },
    {
      "cell_type": "code",
      "execution_count": 4,
      "metadata": {
        "colab": {
          "base_uri": "https://localhost:8080/"
        },
        "id": "m_zTuVCYucwO",
        "outputId": "97c20847-3998-4550-890b-b4a26f4dfaf6"
      },
      "outputs": [
        {
          "output_type": "stream",
          "name": "stderr",
          "text": [
            "<ipython-input-4-18767fd1e585>:2: LangChainDeprecationWarning: The class `Neo4jGraph` was deprecated in LangChain 0.3.8 and will be removed in 1.0. An updated version of the class exists in the :class:`~langchain-neo4j package and should be used instead. To use it run `pip install -U :class:`~langchain-neo4j` and import as `from :class:`~langchain_neo4j import Neo4jGraph``.\n",
            "  graph=Neo4jGraph(\n"
          ]
        }
      ],
      "source": [
        "from langchain_community.graphs import Neo4jGraph\n",
        "graph=Neo4jGraph(\n",
        "    url=NEO4J_URI,\n",
        "    username=NEO4J_USERNAME,\n",
        "    password=NEO4J_PASSWORD,\n",
        ")"
      ]
    },
    {
      "cell_type": "code",
      "execution_count": 5,
      "metadata": {
        "colab": {
          "base_uri": "https://localhost:8080/"
        },
        "id": "Mt729IYCu0wl",
        "outputId": "7c5fd2ce-48ad-4ab9-c708-3573b2bcb390"
      },
      "outputs": [
        {
          "output_type": "execute_result",
          "data": {
            "text/plain": [
              "<langchain_community.graphs.neo4j_graph.Neo4jGraph at 0x7a7b243f2990>"
            ]
          },
          "metadata": {},
          "execution_count": 5
        }
      ],
      "source": [
        "graph"
      ]
    },
    {
      "cell_type": "code",
      "execution_count": 6,
      "metadata": {
        "id": "nV-4leGWLGut"
      },
      "outputs": [],
      "source": [
        "groq_api_key=\"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\""
      ]
    },
    {
      "cell_type": "code",
      "execution_count": 7,
      "metadata": {
        "colab": {
          "base_uri": "https://localhost:8080/"
        },
        "id": "VHYbLs0DLlV-",
        "outputId": "cab89e69-72c0-431f-e048-2ecf86aceed1"
      },
      "outputs": [
        {
          "output_type": "execute_result",
          "data": {
            "text/plain": [
              "ChatGroq(client=<groq.resources.chat.completions.Completions object at 0x7a7ae530ed50>, async_client=<groq.resources.chat.completions.AsyncCompletions object at 0x7a7ae538d950>, model_name='Gemma2-9b-It', model_kwargs={}, groq_api_key=SecretStr('**********'))"
            ]
          },
          "metadata": {},
          "execution_count": 7
        }
      ],
      "source": [
        "from langchain_groq import ChatGroq\n",
        "\n",
        "llm=ChatGroq(groq_api_key=groq_api_key,model_name=\"Gemma2-9b-It\")\n",
        "llm"
      ]
    },
    {
      "cell_type": "code",
      "execution_count": 8,
      "metadata": {
        "colab": {
          "base_uri": "https://localhost:8080/"
        },
        "id": "1bNi2q8xLzfi",
        "outputId": "273256d6-231d-4c92-920e-41539cdfb3e7"
      },
      "outputs": [
        {
          "output_type": "stream",
          "name": "stdout",
          "text": [
            "\u001b[?25l   \u001b[90m━━━━━━━━━━━━━━━━━━━━━━━━━━━━━━━━━━━━━━━━\u001b[0m \u001b[32m0.0/209.2 kB\u001b[0m \u001b[31m?\u001b[0m eta \u001b[36m-:--:--\u001b[0m\r\u001b[2K   \u001b[91m━━━━━━━━━━━━━━━━━━━━━━━━━━━━━━━━━━━━━━━\u001b[0m\u001b[90m╺\u001b[0m \u001b[32m204.8/209.2 kB\u001b[0m \u001b[31m8.2 MB/s\u001b[0m eta \u001b[36m0:00:01\u001b[0m\r\u001b[2K   \u001b[90m━━━━━━━━━━━━━━━━━━━━━━━━━━━━━━━━━━━━━━━━\u001b[0m \u001b[32m209.2/209.2 kB\u001b[0m \u001b[31m4.8 MB/s\u001b[0m eta \u001b[36m0:00:00\u001b[0m\n",
            "\u001b[?25h"
          ]
        }
      ],
      "source": [
        "!pip install --upgrade --quiet langchain_experimental"
      ]
    },
    {
      "cell_type": "code",
      "execution_count": 9,
      "metadata": {
        "id": "O0aOSDOZMLsI"
      },
      "outputs": [],
      "source": [
        "from langchain_experimental.graph_transformers import LLMGraphTransformer\n",
        "llm_transformer=LLMGraphTransformer(llm=llm)"
      ]
    },
    {
      "cell_type": "code",
      "source": [
        "music_query = \"\"\"\n",
        "LOAD CSV WITH HEADERS FROM\n",
        "'https://raw.githubusercontent.com/Sruthi-S-M-tech/music/main/final_knowledge_graph_dataset_updated.csv' AS row\n",
        "WITH row\n",
        "\n",
        "MERGE (u:User {id: row.UserID})\n",
        "SET u.name = row.UserName\n",
        "\n",
        "MERGE (a:Artist {name: row.Artist})\n",
        "\n",
        "MERGE (al:Album {title: row.Album})\n",
        "MERGE (al)-[:BY]->(a)\n",
        "\n",
        "MERGE (s:Song {title: row.SongTitle})\n",
        "MERGE (s)-[:BELONGS_TO]->(al)\n",
        "MERGE (s)-[:IN_GENRE]->(:Genre {name: row.Genre})\n",
        "\n",
        "MERGE (r:Review {text: row.ReviewText})\n",
        "SET r.score = toInteger(row.Score),\n",
        "    r.rating = toInteger(row.Rating),\n",
        "    r.sentiment = row.Sentiment\n",
        "\n",
        "MERGE (u)-[:WROTE]->(r)\n",
        "MERGE (r)-[:ABOUT]->(s)\n",
        "MERGE (u)-[:REVIEWED]->(s)\n",
        "\"\"\"\n"
      ],
      "metadata": {
        "id": "VgejkfE3nnUm"
      },
      "execution_count": 10,
      "outputs": []
    },
    {
      "cell_type": "code",
      "execution_count": 11,
      "metadata": {
        "colab": {
          "base_uri": "https://localhost:8080/"
        },
        "id": "_zx9l2S9OaYX",
        "outputId": "88621b7e-ba1e-409a-fd5e-045f11123704"
      },
      "outputs": [
        {
          "output_type": "execute_result",
          "data": {
            "text/plain": [
              "<langchain_community.graphs.neo4j_graph.Neo4jGraph at 0x7a7b243f2990>"
            ]
          },
          "metadata": {},
          "execution_count": 11
        }
      ],
      "source": [
        "graph"
      ]
    },
    {
      "cell_type": "code",
      "execution_count": 12,
      "metadata": {
        "colab": {
          "base_uri": "https://localhost:8080/"
        },
        "id": "1n3cnM53Od2c",
        "outputId": "22cf0eee-4fb2-4a71-e3fe-177050afdd83"
      },
      "outputs": [
        {
          "output_type": "execute_result",
          "data": {
            "text/plain": [
              "[]"
            ]
          },
          "metadata": {},
          "execution_count": 12
        }
      ],
      "source": [
        "graph.query(music_query)"
      ]
    },
    {
      "cell_type": "code",
      "source": [
        "!pip install flask-ngrok neo4j\n"
      ],
      "metadata": {
        "colab": {
          "base_uri": "https://localhost:8080/"
        },
        "id": "Kwg4Qool7dsY",
        "outputId": "1e0b4cf9-f301-42af-cc23-d9a962d332e7"
      },
      "execution_count": 18,
      "outputs": [
        {
          "output_type": "stream",
          "name": "stdout",
          "text": [
            "Requirement already satisfied: flask-ngrok in /usr/local/lib/python3.11/dist-packages (0.0.25)\n",
            "Requirement already satisfied: neo4j in /usr/local/lib/python3.11/dist-packages (5.28.1)\n",
            "Requirement already satisfied: Flask>=0.8 in /usr/local/lib/python3.11/dist-packages (from flask-ngrok) (3.1.0)\n",
            "Requirement already satisfied: requests in /usr/local/lib/python3.11/dist-packages (from flask-ngrok) (2.32.3)\n",
            "Requirement already satisfied: pytz in /usr/local/lib/python3.11/dist-packages (from neo4j) (2025.2)\n",
            "Requirement already satisfied: Werkzeug>=3.1 in /usr/local/lib/python3.11/dist-packages (from Flask>=0.8->flask-ngrok) (3.1.3)\n",
            "Requirement already satisfied: Jinja2>=3.1.2 in /usr/local/lib/python3.11/dist-packages (from Flask>=0.8->flask-ngrok) (3.1.6)\n",
            "Requirement already satisfied: itsdangerous>=2.2 in /usr/local/lib/python3.11/dist-packages (from Flask>=0.8->flask-ngrok) (2.2.0)\n",
            "Requirement already satisfied: click>=8.1.3 in /usr/local/lib/python3.11/dist-packages (from Flask>=0.8->flask-ngrok) (8.1.8)\n",
            "Requirement already satisfied: blinker>=1.9 in /usr/local/lib/python3.11/dist-packages (from Flask>=0.8->flask-ngrok) (1.9.0)\n",
            "Requirement already satisfied: charset-normalizer<4,>=2 in /usr/local/lib/python3.11/dist-packages (from requests->flask-ngrok) (3.4.1)\n",
            "Requirement already satisfied: idna<4,>=2.5 in /usr/local/lib/python3.11/dist-packages (from requests->flask-ngrok) (3.10)\n",
            "Requirement already satisfied: urllib3<3,>=1.21.1 in /usr/local/lib/python3.11/dist-packages (from requests->flask-ngrok) (2.3.0)\n",
            "Requirement already satisfied: certifi>=2017.4.17 in /usr/local/lib/python3.11/dist-packages (from requests->flask-ngrok) (2025.1.31)\n",
            "Requirement already satisfied: MarkupSafe>=2.0 in /usr/local/lib/python3.11/dist-packages (from Jinja2>=3.1.2->Flask>=0.8->flask-ngrok) (3.0.2)\n"
          ]
        }
      ]
    },
    {
      "cell_type": "code",
      "source": [
        "!pip install flask pyngrok neo4j\n"
      ],
      "metadata": {
        "colab": {
          "base_uri": "https://localhost:8080/"
        },
        "id": "ZUeBcaP6EZLQ",
        "outputId": "97752cbe-d876-4d20-d660-265e86a92aba"
      },
      "execution_count": 23,
      "outputs": [
        {
          "output_type": "stream",
          "name": "stdout",
          "text": [
            "Requirement already satisfied: flask in /usr/local/lib/python3.11/dist-packages (3.1.0)\n",
            "Requirement already satisfied: pyngrok in /usr/local/lib/python3.11/dist-packages (7.2.3)\n",
            "Requirement already satisfied: neo4j in /usr/local/lib/python3.11/dist-packages (5.28.1)\n",
            "Requirement already satisfied: Werkzeug>=3.1 in /usr/local/lib/python3.11/dist-packages (from flask) (3.1.3)\n",
            "Requirement already satisfied: Jinja2>=3.1.2 in /usr/local/lib/python3.11/dist-packages (from flask) (3.1.6)\n",
            "Requirement already satisfied: itsdangerous>=2.2 in /usr/local/lib/python3.11/dist-packages (from flask) (2.2.0)\n",
            "Requirement already satisfied: click>=8.1.3 in /usr/local/lib/python3.11/dist-packages (from flask) (8.1.8)\n",
            "Requirement already satisfied: blinker>=1.9 in /usr/local/lib/python3.11/dist-packages (from flask) (1.9.0)\n",
            "Requirement already satisfied: PyYAML>=5.1 in /usr/local/lib/python3.11/dist-packages (from pyngrok) (6.0.2)\n",
            "Requirement already satisfied: pytz in /usr/local/lib/python3.11/dist-packages (from neo4j) (2025.2)\n",
            "Requirement already satisfied: MarkupSafe>=2.0 in /usr/local/lib/python3.11/dist-packages (from Jinja2>=3.1.2->flask) (3.0.2)\n"
          ]
        }
      ]
    },
    {
      "cell_type": "code",
      "source": [
        "from neo4j import GraphDatabase\n",
        "\n",
        "NEO4J_URI = \"neo4j+s://b2b5fba3.databases.neo4j.io\"\n",
        "NEO4J_USERNAME = \"neo4j\"\n",
        "NEO4J_PASSWORD = \"jnO8gih_w3xVCrlMjLfo1dTHW2ul30rDxOCRZW_YhNQ\"\n",
        "\n",
        "driver = GraphDatabase.driver(NEO4J_URI, auth=(NEO4J_USERNAME, NEO4J_PASSWORD))\n"
      ],
      "metadata": {
        "id": "uCwMlH88Bld0"
      },
      "execution_count": 32,
      "outputs": []
    },
    {
      "cell_type": "code",
      "source": [
        "!ngrok config add-authtoken 2vgOtg2Jb838xWLlPCFeO4ke7KK_5g2jQsHcYGQgBRdSEXR4f"
      ],
      "metadata": {
        "colab": {
          "base_uri": "https://localhost:8080/"
        },
        "id": "iyGNUE-OKPne",
        "outputId": "b7e4eaaf-7c97-49bd-b76f-53c8861b4383"
      },
      "execution_count": 33,
      "outputs": [
        {
          "output_type": "stream",
          "name": "stdout",
          "text": [
            "Authtoken saved to configuration file: /root/.config/ngrok/ngrok.yml\n"
          ]
        }
      ]
    },
    {
      "cell_type": "code",
      "source": [
        "!rm -rf ~/.ngrok2  # this removes old config if it exists\n"
      ],
      "metadata": {
        "id": "FSutGs0GL4qr"
      },
      "execution_count": 36,
      "outputs": []
    },
    {
      "cell_type": "code",
      "source": [
        "!ngrok config add-authtoken 2vgOtg2Jb838xWLlPCFeO4ke7KK_5g2jQsHcYGQgBRdSEXR4f\n"
      ],
      "metadata": {
        "colab": {
          "base_uri": "https://localhost:8080/"
        },
        "id": "A0e4D7KmL7q1",
        "outputId": "fd8ce6f5-f16a-4ca0-f0ef-0c25626d2a87"
      },
      "execution_count": 37,
      "outputs": [
        {
          "output_type": "stream",
          "name": "stdout",
          "text": [
            "Authtoken saved to configuration file: /root/.config/ngrok/ngrok.yml\n"
          ]
        }
      ]
    },
    {
      "cell_type": "code",
      "source": [
        "!pip install gradio neo4j pandas\n"
      ],
      "metadata": {
        "colab": {
          "base_uri": "https://localhost:8080/"
        },
        "id": "k4UDEXIeTyON",
        "outputId": "eb96e842-e2ce-4282-918c-1c412d57d166"
      },
      "execution_count": 40,
      "outputs": [
        {
          "output_type": "stream",
          "name": "stdout",
          "text": [
            "Collecting gradio\n",
            "  Downloading gradio-5.25.0-py3-none-any.whl.metadata (16 kB)\n",
            "Requirement already satisfied: neo4j in /usr/local/lib/python3.11/dist-packages (5.28.1)\n",
            "Requirement already satisfied: pandas in /usr/local/lib/python3.11/dist-packages (2.2.2)\n",
            "Collecting aiofiles<25.0,>=22.0 (from gradio)\n",
            "  Downloading aiofiles-24.1.0-py3-none-any.whl.metadata (10 kB)\n",
            "Requirement already satisfied: anyio<5.0,>=3.0 in /usr/local/lib/python3.11/dist-packages (from gradio) (4.9.0)\n",
            "Collecting fastapi<1.0,>=0.115.2 (from gradio)\n",
            "  Downloading fastapi-0.115.12-py3-none-any.whl.metadata (27 kB)\n",
            "Collecting ffmpy (from gradio)\n",
            "  Downloading ffmpy-0.5.0-py3-none-any.whl.metadata (3.0 kB)\n",
            "Collecting gradio-client==1.8.0 (from gradio)\n",
            "  Downloading gradio_client-1.8.0-py3-none-any.whl.metadata (7.1 kB)\n",
            "Collecting groovy~=0.1 (from gradio)\n",
            "  Downloading groovy-0.1.2-py3-none-any.whl.metadata (6.1 kB)\n",
            "Requirement already satisfied: httpx>=0.24.1 in /usr/local/lib/python3.11/dist-packages (from gradio) (0.28.1)\n",
            "Requirement already satisfied: huggingface-hub>=0.28.1 in /usr/local/lib/python3.11/dist-packages (from gradio) (0.30.1)\n",
            "Requirement already satisfied: jinja2<4.0 in /usr/local/lib/python3.11/dist-packages (from gradio) (3.1.6)\n",
            "Requirement already satisfied: markupsafe<4.0,>=2.0 in /usr/local/lib/python3.11/dist-packages (from gradio) (3.0.2)\n",
            "Requirement already satisfied: numpy<3.0,>=1.0 in /usr/local/lib/python3.11/dist-packages (from gradio) (2.0.2)\n",
            "Requirement already satisfied: orjson~=3.0 in /usr/local/lib/python3.11/dist-packages (from gradio) (3.10.16)\n",
            "Requirement already satisfied: packaging in /usr/local/lib/python3.11/dist-packages (from gradio) (24.2)\n",
            "Requirement already satisfied: pillow<12.0,>=8.0 in /usr/local/lib/python3.11/dist-packages (from gradio) (11.1.0)\n",
            "Requirement already satisfied: pydantic<2.12,>=2.0 in /usr/local/lib/python3.11/dist-packages (from gradio) (2.11.2)\n",
            "Collecting pydub (from gradio)\n",
            "  Downloading pydub-0.25.1-py2.py3-none-any.whl.metadata (1.4 kB)\n",
            "Collecting python-multipart>=0.0.18 (from gradio)\n",
            "  Downloading python_multipart-0.0.20-py3-none-any.whl.metadata (1.8 kB)\n",
            "Requirement already satisfied: pyyaml<7.0,>=5.0 in /usr/local/lib/python3.11/dist-packages (from gradio) (6.0.2)\n",
            "Collecting ruff>=0.9.3 (from gradio)\n",
            "  Downloading ruff-0.11.5-py3-none-manylinux_2_17_x86_64.manylinux2014_x86_64.whl.metadata (25 kB)\n",
            "Collecting safehttpx<0.2.0,>=0.1.6 (from gradio)\n",
            "  Downloading safehttpx-0.1.6-py3-none-any.whl.metadata (4.2 kB)\n",
            "Collecting semantic-version~=2.0 (from gradio)\n",
            "  Downloading semantic_version-2.10.0-py2.py3-none-any.whl.metadata (9.7 kB)\n",
            "Collecting starlette<1.0,>=0.40.0 (from gradio)\n",
            "  Downloading starlette-0.46.2-py3-none-any.whl.metadata (6.2 kB)\n",
            "Collecting tomlkit<0.14.0,>=0.12.0 (from gradio)\n",
            "  Downloading tomlkit-0.13.2-py3-none-any.whl.metadata (2.7 kB)\n",
            "Requirement already satisfied: typer<1.0,>=0.12 in /usr/local/lib/python3.11/dist-packages (from gradio) (0.15.2)\n",
            "Requirement already satisfied: typing-extensions~=4.0 in /usr/local/lib/python3.11/dist-packages (from gradio) (4.13.1)\n",
            "Collecting uvicorn>=0.14.0 (from gradio)\n",
            "  Downloading uvicorn-0.34.1-py3-none-any.whl.metadata (6.5 kB)\n",
            "Requirement already satisfied: fsspec in /usr/local/lib/python3.11/dist-packages (from gradio-client==1.8.0->gradio) (2025.3.2)\n",
            "Requirement already satisfied: websockets<16.0,>=10.0 in /usr/local/lib/python3.11/dist-packages (from gradio-client==1.8.0->gradio) (15.0.1)\n",
            "Requirement already satisfied: pytz in /usr/local/lib/python3.11/dist-packages (from neo4j) (2025.2)\n",
            "Requirement already satisfied: python-dateutil>=2.8.2 in /usr/local/lib/python3.11/dist-packages (from pandas) (2.8.2)\n",
            "Requirement already satisfied: tzdata>=2022.7 in /usr/local/lib/python3.11/dist-packages (from pandas) (2025.2)\n",
            "Requirement already satisfied: idna>=2.8 in /usr/local/lib/python3.11/dist-packages (from anyio<5.0,>=3.0->gradio) (3.10)\n",
            "Requirement already satisfied: sniffio>=1.1 in /usr/local/lib/python3.11/dist-packages (from anyio<5.0,>=3.0->gradio) (1.3.1)\n",
            "Requirement already satisfied: certifi in /usr/local/lib/python3.11/dist-packages (from httpx>=0.24.1->gradio) (2025.1.31)\n",
            "Requirement already satisfied: httpcore==1.* in /usr/local/lib/python3.11/dist-packages (from httpx>=0.24.1->gradio) (1.0.7)\n",
            "Requirement already satisfied: h11<0.15,>=0.13 in /usr/local/lib/python3.11/dist-packages (from httpcore==1.*->httpx>=0.24.1->gradio) (0.14.0)\n",
            "Requirement already satisfied: filelock in /usr/local/lib/python3.11/dist-packages (from huggingface-hub>=0.28.1->gradio) (3.18.0)\n",
            "Requirement already satisfied: requests in /usr/local/lib/python3.11/dist-packages (from huggingface-hub>=0.28.1->gradio) (2.32.3)\n",
            "Requirement already satisfied: tqdm>=4.42.1 in /usr/local/lib/python3.11/dist-packages (from huggingface-hub>=0.28.1->gradio) (4.67.1)\n",
            "Requirement already satisfied: annotated-types>=0.6.0 in /usr/local/lib/python3.11/dist-packages (from pydantic<2.12,>=2.0->gradio) (0.7.0)\n",
            "Requirement already satisfied: pydantic-core==2.33.1 in /usr/local/lib/python3.11/dist-packages (from pydantic<2.12,>=2.0->gradio) (2.33.1)\n",
            "Requirement already satisfied: typing-inspection>=0.4.0 in /usr/local/lib/python3.11/dist-packages (from pydantic<2.12,>=2.0->gradio) (0.4.0)\n",
            "Requirement already satisfied: six>=1.5 in /usr/local/lib/python3.11/dist-packages (from python-dateutil>=2.8.2->pandas) (1.17.0)\n",
            "Requirement already satisfied: click>=8.0.0 in /usr/local/lib/python3.11/dist-packages (from typer<1.0,>=0.12->gradio) (8.1.8)\n",
            "Requirement already satisfied: shellingham>=1.3.0 in /usr/local/lib/python3.11/dist-packages (from typer<1.0,>=0.12->gradio) (1.5.4)\n",
            "Requirement already satisfied: rich>=10.11.0 in /usr/local/lib/python3.11/dist-packages (from typer<1.0,>=0.12->gradio) (13.9.4)\n",
            "Requirement already satisfied: markdown-it-py>=2.2.0 in /usr/local/lib/python3.11/dist-packages (from rich>=10.11.0->typer<1.0,>=0.12->gradio) (3.0.0)\n",
            "Requirement already satisfied: pygments<3.0.0,>=2.13.0 in /usr/local/lib/python3.11/dist-packages (from rich>=10.11.0->typer<1.0,>=0.12->gradio) (2.18.0)\n",
            "Requirement already satisfied: charset-normalizer<4,>=2 in /usr/local/lib/python3.11/dist-packages (from requests->huggingface-hub>=0.28.1->gradio) (3.4.1)\n",
            "Requirement already satisfied: urllib3<3,>=1.21.1 in /usr/local/lib/python3.11/dist-packages (from requests->huggingface-hub>=0.28.1->gradio) (2.3.0)\n",
            "Requirement already satisfied: mdurl~=0.1 in /usr/local/lib/python3.11/dist-packages (from markdown-it-py>=2.2.0->rich>=10.11.0->typer<1.0,>=0.12->gradio) (0.1.2)\n",
            "Downloading gradio-5.25.0-py3-none-any.whl (46.9 MB)\n",
            "\u001b[2K   \u001b[90m━━━━━━━━━━━━━━━━━━━━━━━━━━━━━━━━━━━━━━━━\u001b[0m \u001b[32m46.9/46.9 MB\u001b[0m \u001b[31m15.6 MB/s\u001b[0m eta \u001b[36m0:00:00\u001b[0m\n",
            "\u001b[?25hDownloading gradio_client-1.8.0-py3-none-any.whl (322 kB)\n",
            "\u001b[2K   \u001b[90m━━━━━━━━━━━━━━━━━━━━━━━━━━━━━━━━━━━━━━━━\u001b[0m \u001b[32m322.2/322.2 kB\u001b[0m \u001b[31m19.7 MB/s\u001b[0m eta \u001b[36m0:00:00\u001b[0m\n",
            "\u001b[?25hDownloading aiofiles-24.1.0-py3-none-any.whl (15 kB)\n",
            "Downloading fastapi-0.115.12-py3-none-any.whl (95 kB)\n",
            "\u001b[2K   \u001b[90m━━━━━━━━━━━━━━━━━━━━━━━━━━━━━━━━━━━━━━━━\u001b[0m \u001b[32m95.2/95.2 kB\u001b[0m \u001b[31m7.2 MB/s\u001b[0m eta \u001b[36m0:00:00\u001b[0m\n",
            "\u001b[?25hDownloading groovy-0.1.2-py3-none-any.whl (14 kB)\n",
            "Downloading python_multipart-0.0.20-py3-none-any.whl (24 kB)\n",
            "Downloading ruff-0.11.5-py3-none-manylinux_2_17_x86_64.manylinux2014_x86_64.whl (11.4 MB)\n",
            "\u001b[2K   \u001b[90m━━━━━━━━━━━━━━━━━━━━━━━━━━━━━━━━━━━━━━━━\u001b[0m \u001b[32m11.4/11.4 MB\u001b[0m \u001b[31m70.7 MB/s\u001b[0m eta \u001b[36m0:00:00\u001b[0m\n",
            "\u001b[?25hDownloading safehttpx-0.1.6-py3-none-any.whl (8.7 kB)\n",
            "Downloading semantic_version-2.10.0-py2.py3-none-any.whl (15 kB)\n",
            "Downloading starlette-0.46.2-py3-none-any.whl (72 kB)\n",
            "\u001b[2K   \u001b[90m━━━━━━━━━━━━━━━━━━━━━━━━━━━━━━━━━━━━━━━━\u001b[0m \u001b[32m72.0/72.0 kB\u001b[0m \u001b[31m5.0 MB/s\u001b[0m eta \u001b[36m0:00:00\u001b[0m\n",
            "\u001b[?25hDownloading tomlkit-0.13.2-py3-none-any.whl (37 kB)\n",
            "Downloading uvicorn-0.34.1-py3-none-any.whl (62 kB)\n",
            "\u001b[2K   \u001b[90m━━━━━━━━━━━━━━━━━━━━━━━━━━━━━━━━━━━━━━━━\u001b[0m \u001b[32m62.4/62.4 kB\u001b[0m \u001b[31m4.9 MB/s\u001b[0m eta \u001b[36m0:00:00\u001b[0m\n",
            "\u001b[?25hDownloading ffmpy-0.5.0-py3-none-any.whl (6.0 kB)\n",
            "Downloading pydub-0.25.1-py2.py3-none-any.whl (32 kB)\n",
            "Installing collected packages: pydub, uvicorn, tomlkit, semantic-version, ruff, python-multipart, groovy, ffmpy, aiofiles, starlette, safehttpx, gradio-client, fastapi, gradio\n",
            "Successfully installed aiofiles-24.1.0 fastapi-0.115.12 ffmpy-0.5.0 gradio-5.25.0 gradio-client-1.8.0 groovy-0.1.2 pydub-0.25.1 python-multipart-0.0.20 ruff-0.11.5 safehttpx-0.1.6 semantic-version-2.10.0 starlette-0.46.2 tomlkit-0.13.2 uvicorn-0.34.1\n"
          ]
        }
      ]
    },
    {
      "cell_type": "code",
      "source": [
        "from neo4j import GraphDatabase\n",
        "\n",
        "# Replace with your AuraDB details\n",
        "uri = \"neo4j+s://b2b5fba3.databases.neo4j.io\"\n",
        "username = \"neo4j\"\n",
        "password = \"jnO8gih_w3xVCrlMjLfo1dTHW2ul30rDxOCRZW_YhNQ\"\n",
        "\n",
        "driver = GraphDatabase.driver(uri, auth=(username, password))\n"
      ],
      "metadata": {
        "id": "oheyJVDuUGWK"
      },
      "execution_count": 41,
      "outputs": []
    },
    {
      "cell_type": "code",
      "source": [
        "def get_recommendations(song1, song2, song3):\n",
        "    songs = [song1, song2, song3]\n",
        "\n",
        "    query = \"\"\"\n",
        "    UNWIND $songs AS inputSong\n",
        "    MATCH (s:Song {title: inputSong})\n",
        "\n",
        "    // 1. Top-rated Recommendations\n",
        "    OPTIONAL MATCH (s2:Song)\n",
        "    WHERE s2.rating >= 4\n",
        "    WITH collect(DISTINCT s2.title) AS topRated\n",
        "\n",
        "    // 2. Similar Artist or Album\n",
        "    OPTIONAL MATCH (s)-[:BY_ARTIST|:IN_ALBUM]->(a)<-[:BY_ARTIST|:IN_ALBUM]-(sim:Song)\n",
        "    WITH topRated, collect(DISTINCT sim.title) AS similarArtists\n",
        "\n",
        "    // 3. User Review Similarity\n",
        "    OPTIONAL MATCH (u:User)-[:REVIEWED]->(s)\n",
        "    MATCH (u)-[:REVIEWED]->(other:Song)\n",
        "    WITH topRated, similarArtists, collect(DISTINCT other.title) AS similarUsers\n",
        "\n",
        "    RETURN topRated, similarArtists, similarUsers\n",
        "    \"\"\"\n",
        "\n",
        "    with driver.session() as session:\n",
        "        result = session.run(query, songs=songs).single()\n",
        "\n",
        "        return {\n",
        "            \"🎧 Based on Rating\": result[\"topRated\"][:5],\n",
        "            \"🧑‍🎤 Similar Artists/Albums\": result[\"similarArtists\"][:5],\n",
        "            \"📝 Similar Users\": result[\"similarUsers\"][:5]\n",
        "        }\n"
      ],
      "metadata": {
        "id": "Xtcjjf3UUf9Y"
      },
      "execution_count": 42,
      "outputs": []
    },
    {
      "cell_type": "code",
      "source": [
        "import gradio as gr\n",
        "\n",
        "def recommend_ui(song1, song2, song3):\n",
        "    results = get_recommendations(song1, song2, song3)\n",
        "    return (\n",
        "        \"\\n\".join(results[\"🎧 Based on Rating\"]),\n",
        "        \"\\n\".join(results[\"🧑‍🎤 Similar Artists/Albums\"]),\n",
        "        \"\\n\".join(results[\"📝 Similar Users\"]),\n",
        "    )\n",
        "\n",
        "demo = gr.Interface(\n",
        "    fn=recommend_ui,\n",
        "    inputs=[\n",
        "        gr.Textbox(label=\"Favorite Song 1\"),\n",
        "        gr.Textbox(label=\"Favorite Song 2\"),\n",
        "        gr.Textbox(label=\"Favorite Song 3\")\n",
        "    ],\n",
        "    outputs=[\n",
        "        gr.Textbox(label=\"🎧  Top-rated song recommendations\"),\n",
        "        gr.Textbox(label=\"🧑‍🎤 Artist/Album-based recommendations\"),\n",
        "        gr.Textbox(label=\"📝 User Reviews/Listener-based recommendations\")\n",
        "    ],\n",
        "    title=\"🎵 Music Recommender\",\n",
        "    description=\"Enter 3 favorite songs to get personalized music suggestions!\"\n",
        ")\n",
        "\n",
        "demo.launch(share=True)\n"
      ],
      "metadata": {
        "colab": {
          "base_uri": "https://localhost:8080/",
          "height": 610
        },
        "id": "aJvR1EAAUlnx",
        "outputId": "18c89311-a09d-476c-c6b8-52180c780b14"
      },
      "execution_count": 44,
      "outputs": [
        {
          "output_type": "stream",
          "name": "stdout",
          "text": [
            "Colab notebook detected. To show errors in colab notebook, set debug=True in launch()\n",
            "* Running on public URL: https://b6bf36a1652b95b567.gradio.live\n",
            "\n",
            "This share link expires in 72 hours. For free permanent hosting and GPU upgrades, run `gradio deploy` from the terminal in the working directory to deploy to Hugging Face Spaces (https://huggingface.co/spaces)\n"
          ]
        },
        {
          "output_type": "display_data",
          "data": {
            "text/plain": [
              "<IPython.core.display.HTML object>"
            ],
            "text/html": [
              "<div><iframe src=\"https://b6bf36a1652b95b567.gradio.live\" width=\"100%\" height=\"500\" allow=\"autoplay; camera; microphone; clipboard-read; clipboard-write;\" frameborder=\"0\" allowfullscreen></iframe></div>"
            ]
          },
          "metadata": {}
        },
        {
          "output_type": "execute_result",
          "data": {
            "text/plain": []
          },
          "metadata": {},
          "execution_count": 44
        }
      ]
    },
    {
      "cell_type": "code",
      "source": [
        "!pip install neo4j gradio\n"
      ],
      "metadata": {
        "colab": {
          "base_uri": "https://localhost:8080/"
        },
        "id": "3eXVcawZX-k7",
        "outputId": "4ba24399-995b-4767-8005-3ea544891021"
      },
      "execution_count": 45,
      "outputs": [
        {
          "output_type": "stream",
          "name": "stdout",
          "text": [
            "Requirement already satisfied: neo4j in /usr/local/lib/python3.11/dist-packages (5.28.1)\n",
            "Requirement already satisfied: gradio in /usr/local/lib/python3.11/dist-packages (5.25.0)\n",
            "Requirement already satisfied: pytz in /usr/local/lib/python3.11/dist-packages (from neo4j) (2025.2)\n",
            "Requirement already satisfied: aiofiles<25.0,>=22.0 in /usr/local/lib/python3.11/dist-packages (from gradio) (24.1.0)\n",
            "Requirement already satisfied: anyio<5.0,>=3.0 in /usr/local/lib/python3.11/dist-packages (from gradio) (4.9.0)\n",
            "Requirement already satisfied: fastapi<1.0,>=0.115.2 in /usr/local/lib/python3.11/dist-packages (from gradio) (0.115.12)\n",
            "Requirement already satisfied: ffmpy in /usr/local/lib/python3.11/dist-packages (from gradio) (0.5.0)\n",
            "Requirement already satisfied: gradio-client==1.8.0 in /usr/local/lib/python3.11/dist-packages (from gradio) (1.8.0)\n",
            "Requirement already satisfied: groovy~=0.1 in /usr/local/lib/python3.11/dist-packages (from gradio) (0.1.2)\n",
            "Requirement already satisfied: httpx>=0.24.1 in /usr/local/lib/python3.11/dist-packages (from gradio) (0.28.1)\n",
            "Requirement already satisfied: huggingface-hub>=0.28.1 in /usr/local/lib/python3.11/dist-packages (from gradio) (0.30.1)\n",
            "Requirement already satisfied: jinja2<4.0 in /usr/local/lib/python3.11/dist-packages (from gradio) (3.1.6)\n",
            "Requirement already satisfied: markupsafe<4.0,>=2.0 in /usr/local/lib/python3.11/dist-packages (from gradio) (3.0.2)\n",
            "Requirement already satisfied: numpy<3.0,>=1.0 in /usr/local/lib/python3.11/dist-packages (from gradio) (2.0.2)\n",
            "Requirement already satisfied: orjson~=3.0 in /usr/local/lib/python3.11/dist-packages (from gradio) (3.10.16)\n",
            "Requirement already satisfied: packaging in /usr/local/lib/python3.11/dist-packages (from gradio) (24.2)\n",
            "Requirement already satisfied: pandas<3.0,>=1.0 in /usr/local/lib/python3.11/dist-packages (from gradio) (2.2.2)\n",
            "Requirement already satisfied: pillow<12.0,>=8.0 in /usr/local/lib/python3.11/dist-packages (from gradio) (11.1.0)\n",
            "Requirement already satisfied: pydantic<2.12,>=2.0 in /usr/local/lib/python3.11/dist-packages (from gradio) (2.11.2)\n",
            "Requirement already satisfied: pydub in /usr/local/lib/python3.11/dist-packages (from gradio) (0.25.1)\n",
            "Requirement already satisfied: python-multipart>=0.0.18 in /usr/local/lib/python3.11/dist-packages (from gradio) (0.0.20)\n",
            "Requirement already satisfied: pyyaml<7.0,>=5.0 in /usr/local/lib/python3.11/dist-packages (from gradio) (6.0.2)\n",
            "Requirement already satisfied: ruff>=0.9.3 in /usr/local/lib/python3.11/dist-packages (from gradio) (0.11.5)\n",
            "Requirement already satisfied: safehttpx<0.2.0,>=0.1.6 in /usr/local/lib/python3.11/dist-packages (from gradio) (0.1.6)\n",
            "Requirement already satisfied: semantic-version~=2.0 in /usr/local/lib/python3.11/dist-packages (from gradio) (2.10.0)\n",
            "Requirement already satisfied: starlette<1.0,>=0.40.0 in /usr/local/lib/python3.11/dist-packages (from gradio) (0.46.2)\n",
            "Requirement already satisfied: tomlkit<0.14.0,>=0.12.0 in /usr/local/lib/python3.11/dist-packages (from gradio) (0.13.2)\n",
            "Requirement already satisfied: typer<1.0,>=0.12 in /usr/local/lib/python3.11/dist-packages (from gradio) (0.15.2)\n",
            "Requirement already satisfied: typing-extensions~=4.0 in /usr/local/lib/python3.11/dist-packages (from gradio) (4.13.1)\n",
            "Requirement already satisfied: uvicorn>=0.14.0 in /usr/local/lib/python3.11/dist-packages (from gradio) (0.34.1)\n",
            "Requirement already satisfied: fsspec in /usr/local/lib/python3.11/dist-packages (from gradio-client==1.8.0->gradio) (2025.3.2)\n",
            "Requirement already satisfied: websockets<16.0,>=10.0 in /usr/local/lib/python3.11/dist-packages (from gradio-client==1.8.0->gradio) (15.0.1)\n",
            "Requirement already satisfied: idna>=2.8 in /usr/local/lib/python3.11/dist-packages (from anyio<5.0,>=3.0->gradio) (3.10)\n",
            "Requirement already satisfied: sniffio>=1.1 in /usr/local/lib/python3.11/dist-packages (from anyio<5.0,>=3.0->gradio) (1.3.1)\n",
            "Requirement already satisfied: certifi in /usr/local/lib/python3.11/dist-packages (from httpx>=0.24.1->gradio) (2025.1.31)\n",
            "Requirement already satisfied: httpcore==1.* in /usr/local/lib/python3.11/dist-packages (from httpx>=0.24.1->gradio) (1.0.7)\n",
            "Requirement already satisfied: h11<0.15,>=0.13 in /usr/local/lib/python3.11/dist-packages (from httpcore==1.*->httpx>=0.24.1->gradio) (0.14.0)\n",
            "Requirement already satisfied: filelock in /usr/local/lib/python3.11/dist-packages (from huggingface-hub>=0.28.1->gradio) (3.18.0)\n",
            "Requirement already satisfied: requests in /usr/local/lib/python3.11/dist-packages (from huggingface-hub>=0.28.1->gradio) (2.32.3)\n",
            "Requirement already satisfied: tqdm>=4.42.1 in /usr/local/lib/python3.11/dist-packages (from huggingface-hub>=0.28.1->gradio) (4.67.1)\n",
            "Requirement already satisfied: python-dateutil>=2.8.2 in /usr/local/lib/python3.11/dist-packages (from pandas<3.0,>=1.0->gradio) (2.8.2)\n",
            "Requirement already satisfied: tzdata>=2022.7 in /usr/local/lib/python3.11/dist-packages (from pandas<3.0,>=1.0->gradio) (2025.2)\n",
            "Requirement already satisfied: annotated-types>=0.6.0 in /usr/local/lib/python3.11/dist-packages (from pydantic<2.12,>=2.0->gradio) (0.7.0)\n",
            "Requirement already satisfied: pydantic-core==2.33.1 in /usr/local/lib/python3.11/dist-packages (from pydantic<2.12,>=2.0->gradio) (2.33.1)\n",
            "Requirement already satisfied: typing-inspection>=0.4.0 in /usr/local/lib/python3.11/dist-packages (from pydantic<2.12,>=2.0->gradio) (0.4.0)\n",
            "Requirement already satisfied: click>=8.0.0 in /usr/local/lib/python3.11/dist-packages (from typer<1.0,>=0.12->gradio) (8.1.8)\n",
            "Requirement already satisfied: shellingham>=1.3.0 in /usr/local/lib/python3.11/dist-packages (from typer<1.0,>=0.12->gradio) (1.5.4)\n",
            "Requirement already satisfied: rich>=10.11.0 in /usr/local/lib/python3.11/dist-packages (from typer<1.0,>=0.12->gradio) (13.9.4)\n",
            "Requirement already satisfied: six>=1.5 in /usr/local/lib/python3.11/dist-packages (from python-dateutil>=2.8.2->pandas<3.0,>=1.0->gradio) (1.17.0)\n",
            "Requirement already satisfied: markdown-it-py>=2.2.0 in /usr/local/lib/python3.11/dist-packages (from rich>=10.11.0->typer<1.0,>=0.12->gradio) (3.0.0)\n",
            "Requirement already satisfied: pygments<3.0.0,>=2.13.0 in /usr/local/lib/python3.11/dist-packages (from rich>=10.11.0->typer<1.0,>=0.12->gradio) (2.18.0)\n",
            "Requirement already satisfied: charset-normalizer<4,>=2 in /usr/local/lib/python3.11/dist-packages (from requests->huggingface-hub>=0.28.1->gradio) (3.4.1)\n",
            "Requirement already satisfied: urllib3<3,>=1.21.1 in /usr/local/lib/python3.11/dist-packages (from requests->huggingface-hub>=0.28.1->gradio) (2.3.0)\n",
            "Requirement already satisfied: mdurl~=0.1 in /usr/local/lib/python3.11/dist-packages (from markdown-it-py>=2.2.0->rich>=10.11.0->typer<1.0,>=0.12->gradio) (0.1.2)\n"
          ]
        }
      ]
    },
    {
      "cell_type": "code",
      "source": [
        "from neo4j import GraphDatabase\n",
        "\n",
        "# Replace with your AuraDB credentials\n",
        "NEO4J_URI = \"neo4j+s://b2b5fba3.databases.neo4j.io\"\n",
        "NEO4J_USER = \"neo4j\"\n",
        "NEO4J_PASSWORD = \"jnO8gih_w3xVCrlMjLfo1dTHW2ul30rDxOCRZW_YhNQ\"\n",
        "\n",
        "driver = GraphDatabase.driver(NEO4J_URI, auth=(NEO4J_USER, NEO4J_PASSWORD))\n",
        "\n",
        "def run_query(query, params=None):\n",
        "    with driver.session() as session:\n",
        "        result = session.run(query, params)\n",
        "        return [record.data() for record in result]\n"
      ],
      "metadata": {
        "id": "dfvaxv9JYDTW"
      },
      "execution_count": 46,
      "outputs": []
    },
    {
      "cell_type": "code",
      "source": [
        "def get_recommendations(song1, song2, song3):\n",
        "    favorite_songs = [song1, song2, song3]\n",
        "\n",
        "    # Top-rated\n",
        "    top_rated_query = \"\"\"\n",
        "    MATCH (s:Song)\n",
        "    WHERE s.rating >= 4\n",
        "    RETURN s.title AS title\n",
        "    ORDER BY s.rating DESC\n",
        "    LIMIT 10\n",
        "    \"\"\"\n",
        "    top_rated = [r['title'] for r in run_query(top_rated_query)]\n",
        "\n",
        "    # Similar Artist or Album\n",
        "    artist_album_query = \"\"\"\n",
        "    MATCH (s:Song)<-[:BY|:IN_ALBUM]-(common)<-[:BY|:IN_ALBUM]-(rec:Song)\n",
        "    WHERE s.title IN $favorites AND NOT rec.title IN $favorites\n",
        "    RETURN DISTINCT rec.title AS title\n",
        "    LIMIT 10\n",
        "    \"\"\"\n",
        "    similar_artist_album = [r['title'] for r in run_query(artist_album_query, {\"favorites\": favorite_songs})]\n",
        "\n",
        "    # Similar Listeners\n",
        "    user_review_query = \"\"\"\n",
        "    MATCH (u:User)-[:REVIEWED]->(s:Song)\n",
        "    WHERE s.title IN $favorites\n",
        "    WITH u\n",
        "    MATCH (u)-[:REVIEWED]->(rec:Song)\n",
        "    WHERE NOT rec.title IN $favorites\n",
        "    RETURN DISTINCT rec.title AS title\n",
        "    LIMIT 10\n",
        "    \"\"\"\n",
        "    similar_users = [r['title'] for r in run_query(user_review_query, {\"favorites\": favorite_songs})]\n",
        "\n",
        "    return top_rated, similar_artist_album, similar_users\n"
      ],
      "metadata": {
        "id": "7eVOSGTJYW3N"
      },
      "execution_count": 47,
      "outputs": []
    },
    {
      "cell_type": "code",
      "source": [
        "import gradio as gr\n",
        "\n",
        "def recommend_music(song1, song2, song3):\n",
        "    top_rated, similar_artist_album, similar_users = get_recommendations(song1, song2, song3)\n",
        "\n",
        "    return (\n",
        "        f\"🎧 **Top-Rated Songs**\\n\" + \"\\n\".join(top_rated),\n",
        "        f\"🎤 **Similar Artist/Album Suggestions**\\n\" + \"\\n\".join(similar_artist_album),\n",
        "        f\"👥 **Similar Listeners Recommendations**\\n\" + \"\\n\".join(similar_users)\n",
        "    )\n",
        "\n",
        "with gr.Blocks() as demo:\n",
        "    gr.Markdown(\"## 🎶 Music Recommender System\")\n",
        "\n",
        "    with gr.Row():\n",
        "        song1 = gr.Textbox(label=\"Select First Favorite Song\")\n",
        "        song2 = gr.Textbox(label=\"Select Second Favorite Song\")\n",
        "        song3 = gr.Textbox(label=\"Select Third Favorite Song\")\n",
        "\n",
        "    btn = gr.Button(\"Get Recommendations\")\n",
        "\n",
        "    with gr.Row():\n",
        "        top_out = gr.Textbox(label=\"⭐ Top-Rated Songs\", lines=10)\n",
        "        artist_out = gr.Textbox(label=\"🎤 Similar Artist/Album\", lines=10)\n",
        "        user_out = gr.Textbox(label=\"👥 Based on User Reviews\", lines=10)\n",
        "\n",
        "    btn.click(fn=recommend_music, inputs=[song1, song2, song3], outputs=[top_out, artist_out, user_out])\n",
        "\n",
        "demo.launch()\n"
      ],
      "metadata": {
        "colab": {
          "base_uri": "https://localhost:8080/",
          "height": 645
        },
        "id": "u8a-DZiZYb-v",
        "outputId": "f28206a3-83c6-4841-c99f-eefefb4eede1"
      },
      "execution_count": 48,
      "outputs": [
        {
          "output_type": "stream",
          "name": "stdout",
          "text": [
            "Running Gradio in a Colab notebook requires sharing enabled. Automatically setting `share=True` (you can turn this off by setting `share=False` in `launch()` explicitly).\n",
            "\n",
            "Colab notebook detected. To show errors in colab notebook, set debug=True in launch()\n",
            "* Running on public URL: https://192e94051f48d78dcd.gradio.live\n",
            "\n",
            "This share link expires in 72 hours. For free permanent hosting and GPU upgrades, run `gradio deploy` from the terminal in the working directory to deploy to Hugging Face Spaces (https://huggingface.co/spaces)\n"
          ]
        },
        {
          "output_type": "display_data",
          "data": {
            "text/plain": [
              "<IPython.core.display.HTML object>"
            ],
            "text/html": [
              "<div><iframe src=\"https://192e94051f48d78dcd.gradio.live\" width=\"100%\" height=\"500\" allow=\"autoplay; camera; microphone; clipboard-read; clipboard-write;\" frameborder=\"0\" allowfullscreen></iframe></div>"
            ]
          },
          "metadata": {}
        },
        {
          "output_type": "execute_result",
          "data": {
            "text/plain": []
          },
          "metadata": {},
          "execution_count": 48
        }
      ]
    },
    {
      "cell_type": "code",
      "source": [
        "!pip install neo4j\n"
      ],
      "metadata": {
        "colab": {
          "base_uri": "https://localhost:8080/"
        },
        "id": "1GvfWKm7ZgbW",
        "outputId": "173aa585-14ba-48c3-c2d0-23f432524106"
      },
      "execution_count": 49,
      "outputs": [
        {
          "output_type": "stream",
          "name": "stdout",
          "text": [
            "Requirement already satisfied: neo4j in /usr/local/lib/python3.11/dist-packages (5.28.1)\n",
            "Requirement already satisfied: pytz in /usr/local/lib/python3.11/dist-packages (from neo4j) (2025.2)\n"
          ]
        }
      ]
    },
    {
      "cell_type": "code",
      "source": [
        "from neo4j import GraphDatabase\n",
        "import gradio as gr\n",
        "\n",
        "# 🔐 Replace these with your Neo4j AuraDB credentials\n",
        "uri = \"neo4j+s://b2b5fba3.databases.neo4j.io\"\n",
        "username = \"neo4j\"\n",
        "password = \"jnO8gih_w3xVCrlMjLfo1dTHW2ul30rDxOCRZW_YhNQ\"\n",
        "\n",
        "# Connect to Neo4j\n",
        "driver = GraphDatabase.driver(uri, auth=(username, password))\n",
        "\n",
        "# 🚀 Function to fetch all song titles\n",
        "def get_all_song_titles():\n",
        "    with driver.session() as session:\n",
        "        query = \"MATCH (s:Song) RETURN DISTINCT s.title AS title ORDER BY s.title\"\n",
        "        results = session.run(query)\n",
        "        return [record[\"title\"] for record in results]\n",
        "\n",
        "# 💡 Function to fetch recommendations\n",
        "def get_recommendations(song1, song2, song3):\n",
        "    recommendations = {\n",
        "        \"Top Rated Songs\": [],\n",
        "        \"Similar Artist/Album\": [],\n",
        "        \"Similar Listeners\": []\n",
        "    }\n",
        "\n",
        "    with driver.session() as session:\n",
        "        # 🎯 Top-rated recommendations\n",
        "        top_query = \"\"\"\n",
        "        MATCH (s:Song)\n",
        "        WHERE s.rating >= 4\n",
        "        RETURN s.title LIMIT 10\n",
        "        \"\"\"\n",
        "        recommendations[\"Top Rated Songs\"] = [record[\"s.title\"] for record in session.run(top_query)]\n",
        "\n",
        "        # 👥 Similar artist/album\n",
        "        artist_query = \"\"\"\n",
        "        MATCH (s:Song)-[:BY_ARTIST|:IN_ALBUM]->(a)<-[:BY_ARTIST|:IN_ALBUM]-(rec:Song)\n",
        "        WHERE s.title IN [$song1, $song2, $song3] AND rec.title <> s.title\n",
        "        RETURN DISTINCT rec.title LIMIT 10\n",
        "        \"\"\"\n",
        "        results = session.run(artist_query, song1=song1, song2=song2, song3=song3)\n",
        "        recommendations[\"Similar Artist/Album\"] = [record[\"rec.title\"] for record in results]\n",
        "\n",
        "        # 🧑‍🤝‍🧑 Similar listeners\n",
        "        listener_query = \"\"\"\n",
        "        MATCH (u:User)-[:REVIEWED]->(s:Song)\n",
        "        WHERE s.title IN [$song1, $song2, $song3]\n",
        "        WITH DISTINCT u\n",
        "        MATCH (u)-[:REVIEWED]->(rec:Song)\n",
        "        RETURN DISTINCT rec.title LIMIT 10\n",
        "        \"\"\"\n",
        "        results = session.run(listener_query, song1=song1, song2=song2, song3=song3)\n",
        "        recommendations[\"Similar Listeners\"] = [record[\"rec.title\"] for record in results]\n",
        "\n",
        "    return (\n",
        "        f\"🎧 Selected Songs:\\n1. {song1}\\n2. {song2}\\n3. {song3}\",\n",
        "        recommendations[\"Top Rated Songs\"],\n",
        "        recommendations[\"Similar Artist/Album\"],\n",
        "        recommendations[\"Similar Listeners\"]\n",
        "    )\n",
        "\n",
        "# 🎨 Gradio UI\n",
        "song_titles = get_all_song_titles()\n",
        "\n",
        "with gr.Blocks(title=\"🎵 Music Recommender\") as demo:\n",
        "    gr.Markdown(\"## 🎶 Music Recommendation System\")\n",
        "    gr.Markdown(\"Choose your 3 favorite songs:\")\n",
        "\n",
        "    with gr.Row():\n",
        "        song1 = gr.Dropdown(choices=song_titles, label=\"🎵 First Favorite Song\")\n",
        "        song2 = gr.Dropdown(choices=song_titles, label=\"🎵 Second Favorite Song\")\n",
        "        song3 = gr.Dropdown(choices=song_titles, label=\"🎵 Third Favorite Song\")\n",
        "\n",
        "    submit = gr.Button(\"🔍 Recommend\")\n",
        "\n",
        "    selected = gr.Textbox(label=\"🎧 Selected Songs\", interactive=False)\n",
        "    rating_out = gr.Textbox(label=\"🌟 Top-rated Songs\", lines=10)\n",
        "    artist_out = gr.Textbox(label=\"🎤 Similar Artist/Album Suggestions\" ,lines=10)\n",
        "    user_out = gr.Textbox(label=\"👥 Based on User Reviews/Listeners\" , lines=10)\n",
        "\n",
        "    submit.click(fn=get_recommendations, inputs=[song1, song2, song3], outputs=[selected, rating_out, artist_out, user_out])\n",
        "\n",
        "demo.launch(share=True)\n"
      ],
      "metadata": {
        "colab": {
          "base_uri": "https://localhost:8080/",
          "height": 610
        },
        "id": "9ms18vVBaBtb",
        "outputId": "8f25fa63-944e-4bd3-f94e-cfe391a35f4b"
      },
      "execution_count": 57,
      "outputs": [
        {
          "output_type": "stream",
          "name": "stdout",
          "text": [
            "Colab notebook detected. To show errors in colab notebook, set debug=True in launch()\n",
            "* Running on public URL: https://37a759c62d8f057c9d.gradio.live\n",
            "\n",
            "This share link expires in 72 hours. For free permanent hosting and GPU upgrades, run `gradio deploy` from the terminal in the working directory to deploy to Hugging Face Spaces (https://huggingface.co/spaces)\n"
          ]
        },
        {
          "output_type": "display_data",
          "data": {
            "text/plain": [
              "<IPython.core.display.HTML object>"
            ],
            "text/html": [
              "<div><iframe src=\"https://37a759c62d8f057c9d.gradio.live\" width=\"100%\" height=\"500\" allow=\"autoplay; camera; microphone; clipboard-read; clipboard-write;\" frameborder=\"0\" allowfullscreen></iframe></div>"
            ]
          },
          "metadata": {}
        },
        {
          "output_type": "execute_result",
          "data": {
            "text/plain": []
          },
          "metadata": {},
          "execution_count": 57
        }
      ]
    },
    {
      "cell_type": "code",
      "source": [
        "from neo4j import GraphDatabase\n",
        "import gradio as gr\n",
        "\n",
        "# 🔐 Replace these with your Neo4j AuraDB credentials\n",
        "uri = \"neo4j+s://b2b5fba3.databases.neo4j.io\"\n",
        "username = \"neo4j\"\n",
        "password = \"jnO8gih_w3xVCrlMjLfo1dTHW2ul30rDxOCRZW_YhNQ\"\n",
        "\n",
        "# Connect to Neo4j\n",
        "driver = GraphDatabase.driver(uri, auth=(username, password))\n",
        "\n",
        "# 🚀 Function to fetch all song titles\n",
        "def get_all_song_titles():\n",
        "    with driver.session() as session:\n",
        "        query = \"MATCH (s:Song) RETURN DISTINCT s.title AS title ORDER BY s.title\"\n",
        "        results = session.run(query)\n",
        "        return [record[\"title\"] for record in results]\n",
        "\n",
        "# 💡 Function to fetch recommendations\n",
        "def get_recommendations(song1, song2, song3):\n",
        "    recommendations = {\n",
        "        \"Top Rated Songs\": [],\n",
        "        \"Similar Artist/Album\": [],\n",
        "         \"Similar Genre\": []\n",
        "    }\n",
        "\n",
        "    with driver.session() as session:\n",
        "        # 🎯 Top-rated recommendations\n",
        "        top_query = \"\"\"\n",
        "        MATCH (s:Song)\n",
        "        WHERE s.rating >= 4\n",
        "        RETURN s.title AS title LIMIT 10\n",
        "        \"\"\"\n",
        "        recommendations[\"Top Rated Songs\"] = [record[\"title\"] for record in session.run(top_query)]\n",
        "        # 1🎤 Similar Artist/Album\n",
        "        #artist_query = \"\"\"\n",
        "        #MATCH (s:Song)\n",
        "        #WHERE s.title IN [$song1, $song2, $song3]\n",
        "        #MATCH (s)-[:BELONGS_TO]->(:Album)-[:BY]->(a:Artist)\n",
        "        #MATCH (a)<-[:BY]-(al:Album)<-[:BELONGS_TO]-(rec:Song)\n",
        "        #WHERE NOT rec.title IN [$song1, $song2, $song3]\n",
        "        #RETURN DISTINCT rec.title AS title\n",
        "        #LIMIT 10\n",
        "        #\"\"\"\n",
        "        #results = session.run(artist_query, song1=song1, song2=song2, song3=song3)\n",
        "        #recommendations[\"Similar Artist/Album\"] = [record[\"title\"] for record in results]\n",
        "\n",
        "         # 🎤 Similar Artist/Album\n",
        "        artist_query = \"\"\"\n",
        "        MATCH (s:Song)\n",
        "        WHERE s.title IN [$song1, $song2, $song3]\n",
        "        MATCH (s)-[:BELONGS_TO]->(:Album)-[:BY]->(a:Artist)\n",
        "        MATCH (a)<-[:BY]-(al:Album)<-[:BELONGS_TO]-(rec:Song)\n",
        "        WHERE NOT rec.title IN [$song1, $song2, $song3]\n",
        "        RETURN DISTINCT rec.title AS title\n",
        "        LIMIT 20\n",
        "        \"\"\"\n",
        "        results = session.run(artist_query, song1=song1, song2=song2, song3=song3)\n",
        "        recommendations[\"Similar Artist/Album\"] = [record[\"title\"] for record in results]\n",
        "\n",
        "\n",
        "\n",
        "        # 🎤 Similar Artist/Album\n",
        "        #artist_query = \"\"\"\n",
        "        #MATCH (s:Song)\n",
        "        #WHERE s.title IN [$song1, $song2, $song3]\n",
        "        #MATCH (s)-[:BELONGS_TO]->(al:Album)<-[:BELONGS_TO]-(rec:Song)\n",
        "        #WHERE NOT rec.title IN [$song1, $song2, $song3]\n",
        "        #RETURN DISTINCT rec.title AS title\n",
        "        #LIMIT 10\n",
        "        #\"\"\"\n",
        "        #results = session.run(artist_query, song1=song1, song2=song2, song3=song3)\n",
        "        #recommendations[\"Similar Artist/Album\"] = [record[\"title\"] for record in results]\n",
        "\n",
        "        # 👥 Similar artist/album\n",
        "        #artist_query = \"\"\"\n",
        "        #MATCH (s:Song)-[:BY_ARTIST|:IN_ALBUM]->(a)<-[:BY_ARTIST|:IN_ALBUM]-(rec:Song)\n",
        "        #WHERE s.title IN [$song1, $song2, $song3] AND rec.title <> s.title\n",
        "        #RETURN DISTINCT rec.title AS title LIMIT 10\n",
        "        #\"\"\"\n",
        "        #results = session.run(artist_query, song1=song1, song2=song2, song3=song3)\n",
        "        #recommendations[\"Similar Artist/Album\"] = [record[\"title\"] for record in results]\n",
        "\n",
        "        # 1🧑‍🤝‍🧑 Similar listeners\n",
        "        #listener_query = \"\"\"\n",
        "        #MATCH (u:User)-[:REVIEWED]->(s:Song)\n",
        "        #WHERE s.title IN [$song1, $song2, $song3]\n",
        "        #WITH DISTINCT u\n",
        "        #MATCH (u)-[:REVIEWED]->(rec:Song)\n",
        "        #WHERE NOT rec.title IN [$song1, $song2, $song3]\n",
        "        #RETURN DISTINCT rec.title AS title LIMIT 10\n",
        "        #\"\"\"\n",
        "        #results = session.run(listener_query, song1=song1, song2=song2, song3=song3)\n",
        "        #recommendations[\"Similar Listeners\"] = [record[\"title\"] for record in results]\n",
        "\n",
        "        # 2🧑‍🤝‍🧑 Similar listeners\n",
        "        #listener_query = \"\"\"\n",
        "        #MATCH (u:User)-[:REVIEWED]->(s:Song)\n",
        "        #WHERE s.title IN [$song1, $song2, $song3]\n",
        "        #WITH DISTINCT u\n",
        "        #MATCH (u)-[:REVIEWED]->(rec:Song)\n",
        "        #WHERE NOT rec.title IN [$song1, $song2, $song3]\n",
        "        #RETURN DISTINCT rec.title AS title\n",
        "        #LIMIT 10\n",
        "        #\"\"\"\n",
        "        #results = session.run(listener_query, song1=song1, song2=song2, song3=song3)\n",
        "        #recommendations[\"Similar Listeners\"] = [record[\"title\"] for record in results]\n",
        "\n",
        "        # 3🧑‍🤝‍🧑 Similar listeners\n",
        "        #listener_query = \"\"\"\n",
        "        #MATCH (u:User)-[:WROTE]->(r:Review)-[:ABOUT]->(s:Song)\n",
        "        #WHERE s.title IN [$song1, $song2, $song3]\n",
        "        #WITH DISTINCT u\n",
        "        #MATCH (u)-[:WROTE]->(r2:Review)-[:ABOUT]->(rec:Song)\n",
        "        #WHERE NOT rec.title IN [$song1, $song2, $song3]\n",
        "        #RETURN DISTINCT rec.title AS title\n",
        "        #LIMIT 10\n",
        "        #\"\"\"\n",
        "        #results = session.run(listener_query, song1=song1, song2=song2, song3=song3)\n",
        "        #recommendations[\"Similar Listeners\"] = [record[\"title\"] for record in results]\n",
        "\n",
        "        # 1🎧 Similar genre songs\n",
        "        #genre_query = \"\"\"\n",
        "        #MATCH (s:Song)\n",
        "        #WHERE s.title IN [$song1, $song2, $song3]\n",
        "        #MATCH (s)-[:IN_GENRE]->(g:Genre)<-[:IN_GENRE]-(rec:Song)\n",
        "        #WHERE NOT rec.title IN [$song1, $song2, $song3]\n",
        "        #RETURN DISTINCT rec.title AS title\n",
        "        #LIMIT 10\n",
        "        #\"\"\"\n",
        "        #results = session.run(genre_query, song1=song1, song2=song2, song3=song3)\n",
        "        #recommendations[\"Similar Genre Songs\"] = [record[\"title\"] for record in results]\n",
        "\n",
        "        # 🎼 Similar Genre\n",
        "        genre_query = \"\"\"\n",
        "        MATCH (s:Song)\n",
        "        WHERE s.title IN [$song1, $song2, $song3]\n",
        "        MATCH (s)-[:IN_GENRE]->(g:Genre)<-[:IN_GENRE]-(rec:Song)\n",
        "        WHERE NOT rec.title IN [$song1, $song2, $song3]\n",
        "        RETURN DISTINCT rec.title AS title\n",
        "        LIMIT 10\n",
        "        \"\"\"\n",
        "        genre_results = session.run(genre_query, song1=song1, song2=song2, song3=song3)\n",
        "        recommendations[\"Similar Genre\"] = [record[\"title\"] for record in genre_results]\n",
        "\n",
        "\n",
        "\n",
        "\n",
        "    # Format as readable string\n",
        "    top_rated_text = \"\\n\".join(recommendations[\"Top Rated Songs\"])\n",
        "    similar_artist_text = \"\\n\".join(recommendations[\"Similar Artist/Album\"])\n",
        "    similar_genre_text = \"\\n\".join(recommendations[\"Similar Genre\"])\n",
        "\n",
        "    return (\n",
        "        f\"🎧 Selected Songs:\\n1. {song1}\\n2. {song2}\\n3. {song3}\",\n",
        "        top_rated_text,\n",
        "        similar_artist_text,\n",
        "        similar_genre_text\n",
        "    )\n",
        "\n",
        "# 🎨 Gradio UI\n",
        "song_titles = get_all_song_titles()\n",
        "\n",
        "with gr.Blocks(title=\"🎵 Music Recommender\") as demo:\n",
        "    gr.Markdown(\"## 🎶 Music Recommendation System\")\n",
        "    gr.Markdown(\"Choose your 3 favorite songs:\")\n",
        "\n",
        "    with gr.Row():\n",
        "        song1 = gr.Dropdown(choices=song_titles, label=\"🎵 First Favorite Song\")\n",
        "        song2 = gr.Dropdown(choices=song_titles, label=\"🎵 Second Favorite Song\")\n",
        "        song3 = gr.Dropdown(choices=song_titles, label=\"🎵 Third Favorite Song\")\n",
        "\n",
        "    submit = gr.Button(\"🔍 Recommend\")\n",
        "\n",
        "    selected = gr.Textbox(label=\"🎧 Selected Songs\", interactive=False)\n",
        "    rating_out = gr.Textbox(label=\"🌟 Top-rated Songs\", lines=10)\n",
        "    artist_out = gr.Textbox(label=\"🎤 Similar Artist/Album Suggestions\", lines=10)\n",
        "    genre_out = gr.Textbox(label=\"🎼 Similar Genre Songs\", lines=10)\n",
        "\n",
        "    submit.click(\n",
        "        fn=get_recommendations,\n",
        "        inputs=[song1, song2, song3],\n",
        "        outputs=[selected, rating_out, artist_out, genre_out]\n",
        "    )\n",
        "\n",
        "demo.launch(share=True)\n"
      ],
      "metadata": {
        "colab": {
          "base_uri": "https://localhost:8080/",
          "height": 610
        },
        "id": "b2xhhU3pk2X9",
        "outputId": "ce55921c-ef0b-49ee-a839-c49c10ac21a8"
      },
      "execution_count": 74,
      "outputs": [
        {
          "output_type": "stream",
          "name": "stdout",
          "text": [
            "Colab notebook detected. To show errors in colab notebook, set debug=True in launch()\n",
            "* Running on public URL: https://d6a5b06fb547653dd4.gradio.live\n",
            "\n",
            "This share link expires in 72 hours. For free permanent hosting and GPU upgrades, run `gradio deploy` from the terminal in the working directory to deploy to Hugging Face Spaces (https://huggingface.co/spaces)\n"
          ]
        },
        {
          "output_type": "display_data",
          "data": {
            "text/plain": [
              "<IPython.core.display.HTML object>"
            ],
            "text/html": [
              "<div><iframe src=\"https://d6a5b06fb547653dd4.gradio.live\" width=\"100%\" height=\"500\" allow=\"autoplay; camera; microphone; clipboard-read; clipboard-write;\" frameborder=\"0\" allowfullscreen></iframe></div>"
            ]
          },
          "metadata": {}
        },
        {
          "output_type": "execute_result",
          "data": {
            "text/plain": []
          },
          "metadata": {},
          "execution_count": 74
        }
      ]
    },
    {
      "cell_type": "code",
      "source": [],
      "metadata": {
        "id": "_L8n2YDzrnCM"
      },
      "execution_count": null,
      "outputs": []
    }
  ],
  "metadata": {
    "colab": {
      "provenance": [],
      "authorship_tag": "ABX9TyPh7M4q64TQn0UG0cp8TbNW",
      "include_colab_link": true
    },
    "kernelspec": {
      "display_name": "Python 3",
      "name": "python3"
    },
    "language_info": {
      "name": "python"
    }
  },
  "nbformat": 4,
  "nbformat_minor": 0
}